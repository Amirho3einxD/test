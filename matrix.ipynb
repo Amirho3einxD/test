{
 "cells": [
  {
   "cell_type": "code",
   "execution_count": 34,
   "id": "5e6d0f79-6750-4fc2-a1a7-403e6927111b",
   "metadata": {
    "scrolled": true
   },
   "outputs": [
    {
     "name": "stdin",
     "output_type": "stream",
     "text": [
      "Enter number 1:  1\n",
      "Enter number 2:  1\n",
      "Enter number 3:  1\n",
      "Enter number 4:  1\n",
      "Enter number 5:  1\n",
      "Enter number 6:  1\n",
      "Enter number 7:  1\n",
      "Enter number 8:  1\n",
      "Enter number 9:  1\n",
      "Enter number 10:  1\n",
      "Enter number 11:  0\n",
      "Enter number 12:  0\n",
      "Enter number 13:  0\n",
      "Enter number 14:  0\n",
      "Enter number 15:  00\n",
      "Enter number 16:  000\n"
     ]
    },
    {
     "name": "stdout",
     "output_type": "stream",
     "text": [
      "[[1 1 1 1]\n",
      " [1 1 1 1]\n",
      " [1 1 0 0]\n",
      " [0 0 0 0]]\n",
      "1\n"
     ]
    }
   ],
   "source": [
    "import numpy as np\n",
    "numbers = []\n",
    "for i in range(1, 17):\n",
    "    a = int(input(\"Enter number \" + str(i) + \": \"))\n",
    "    numbers.append(a)\n",
    "matrix = np.array(numbers).reshape(4, 4)\n",
    "print(matrix)\n",
    "indices_to_remove = [5, 6, 9, 10]\n",
    "filtered_list = [value for index, value in enumerate(numbers) if index not in indices_to_remove]\n",
    "result=1;\n",
    "for x in filtered_list:\n",
    "    if x!=0:\n",
    "        result=x*result\n",
    "print (result)\n"
   ]
  },
  {
   "cell_type": "code",
   "execution_count": null,
   "id": "f01768b5-4ca0-45e5-b641-6ad3a23dc5aa",
   "metadata": {},
   "outputs": [],
   "source": []
  }
 ],
 "metadata": {
  "kernelspec": {
   "display_name": "Python 3 (ipykernel)",
   "language": "python",
   "name": "python3"
  },
  "language_info": {
   "codemirror_mode": {
    "name": "ipython",
    "version": 3
   },
   "file_extension": ".py",
   "mimetype": "text/x-python",
   "name": "python",
   "nbconvert_exporter": "python",
   "pygments_lexer": "ipython3",
   "version": "3.11.7"
  }
 },
 "nbformat": 4,
 "nbformat_minor": 5
}
